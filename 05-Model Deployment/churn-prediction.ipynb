{
 "cells": [
  {
   "cell_type": "code",
   "execution_count": 65,
   "id": "9f2d9726-e423-473e-ac62-9083603b6d11",
   "metadata": {},
   "outputs": [],
   "source": [
    "import pandas as pd\n",
    "import numpy as np\n",
    "\n",
    "import matplotlib.pyplot as plt\n",
    "from sklearn.model_selection import train_test_split, KFold\n",
    "\n",
    "\n",
    "from sklearn.feature_extraction import DictVectorizer\n",
    "from sklearn.linear_model import LogisticRegression\n",
    "from sklearn.metrics import roc_auc_score\n",
    "\n",
    "import pickle"
   ]
  },
  {
   "cell_type": "code",
   "execution_count": 66,
   "id": "295fef2b-28e3-40bc-8361-5e33441e4fc0",
   "metadata": {},
   "outputs": [],
   "source": [
    "churn = pd.read_csv(\"customer-churn.csv\")\n",
    "churn.columns = churn.columns.str.lower().str.replace(\" \", \"_\")\n",
    "\n",
    "categorical_columns = churn.dtypes[churn.dtypes == \"O\"].index\n",
    "\n",
    "for c in categorical_columns:\n",
    "    churn[c] = churn[c].str.lower().str.replace(\" \", \"_\")\n",
    "\n",
    "churn.totalcharges = pd.to_numeric(churn.totalcharges, errors=\"coerce\")\n",
    "churn[\"totalcharges\"] = churn.totalcharges.fillna(0)\n",
    "\n",
    "churn.churn = churn.churn.apply(lambda churn: churn == \"yes\" ).astype(int)\n",
    "\n",
    "df_full_train, df_test =  train_test_split(churn, test_size=0.2, random_state=1)"
   ]
  },
  {
   "cell_type": "code",
   "execution_count": 67,
   "id": "0c978269-bd89-469e-beaf-0fcaaf1f4868",
   "metadata": {},
   "outputs": [],
   "source": [
    "df_train, df_val =  train_test_split(df_full_train, test_size=0.25, random_state=1)\n",
    "\n",
    "df_train = df_train.reset_index()\n",
    "df_test = df_test.reset_index()\n",
    "df_val = df_val.reset_index()\n",
    "\n",
    "y_train = df_train.churn\n",
    "y_val = df_val.churn\n",
    "y_test = df_test.churn\n",
    "\n",
    "del df_train[\"churn\"]\n",
    "del df_val[\"churn\"]\n",
    "del df_test[\"churn\"]\n",
    "\n",
    "numerical = [\"tenure\", \"monthlycharges\", \"totalcharges\"]\n",
    "categorical = [\n",
    "    'onlinesecurity', 'deviceprotection', 'gender', \n",
    "    'partner', 'paymentmethod', 'paperlessbilling', \n",
    "    'seniorcitizen', 'techsupport', 'phoneservice', \n",
    "    'dependents', 'onlinebackup', 'contract', \n",
    "    'multiplelines', 'streamingmovies', \n",
    "    'internetservice', 'streamingtv'\n",
    "]\n"
   ]
  },
  {
   "cell_type": "code",
   "execution_count": 68,
   "id": "0c69506a-d266-439c-a3ed-7d796846ec68",
   "metadata": {},
   "outputs": [],
   "source": [
    "def train_model(df_train, y_train, c=0.001):\n",
    "    train_dicts = df_train[categorical + numerical].to_dict(orient=\"records\")\n",
    "    dv = DictVectorizer(sparse=False)\n",
    "    X_train = dv.fit_transform(train_dicts)\n",
    "\n",
    "    model = LogisticRegression(max_iter=1000, C=c, solver=\"liblinear\")\n",
    "    model.fit(X_train, y_train)\n",
    "    \n",
    "    return dv, model\n",
    "\n",
    "def predict(df, dv, model):\n",
    "    df_dicts = df[categorical + numerical].to_dict(orient=\"records\")\n",
    "\n",
    "    X = dv.fit_transform(df_dicts)\n",
    "\n",
    "    y_pred = model.predict_proba(X)[:,1]\n",
    "\n",
    "    return y_pred\n",
    "\n"
   ]
  },
  {
   "cell_type": "code",
   "execution_count": 69,
   "id": "79f3d2ac-3384-4451-b2b9-7d107e792ef8",
   "metadata": {},
   "outputs": [],
   "source": [
    "C=1.0\n",
    "n_splits=5"
   ]
  },
  {
   "cell_type": "code",
   "execution_count": 70,
   "id": "93f4f5fd-d1c8-4ab8-944b-584637ac54f9",
   "metadata": {},
   "outputs": [
    {
     "name": "stdout",
     "output_type": "stream",
     "text": [
      "C=1.0: 0.84 +/- 0.01\n"
     ]
    }
   ],
   "source": [
    "scores = []\n",
    "\n",
    "kfold = KFold(n_splits=n_splits, shuffle=True, random_state=1)\n",
    "\n",
    "for train_idx, val_idx in kfold.split(df_full_train):\n",
    "    df_train = df_full_train.iloc[train_idx]\n",
    "    df_val = df_full_train.iloc[val_idx]\n",
    "    \n",
    "    dv, model = train_model(df_train, df_train.churn, c=C)\n",
    "    \n",
    "    y_pred = predict(df_val, dv, model)\n",
    "\n",
    "    score = roc_auc_score(df_val.churn, y_pred)\n",
    "    \n",
    "    scores.append(score)\n",
    "\n",
    "print(f\"C={C}: {np.mean(scores):.2f} +/- {np.std(scores):.2f}\")"
   ]
  },
  {
   "cell_type": "code",
   "execution_count": 71,
   "id": "07f2089d-07d8-41a8-a852-aa3e56269243",
   "metadata": {},
   "outputs": [],
   "source": [
    "dv, model = train_model(df_full_train, df_full_train.churn, c=100)\n",
    "y_pred = predict(df_test, dv, model)\n",
    "score = roc_auc_score(y_test, y_pred)"
   ]
  },
  {
   "cell_type": "markdown",
   "id": "a0eeefcf-d668-4560-9bbd-7da704ee574e",
   "metadata": {},
   "source": [
    "## saving the model"
   ]
  },
  {
   "cell_type": "code",
   "execution_count": 72,
   "id": "42f04c64-953b-4ace-9e8c-c6e1010f976d",
   "metadata": {},
   "outputs": [],
   "source": [
    "output_file = f\"model_C={C}.bin\"\n",
    "with open(output_file, \"wb\") as f_out:\n",
    "    pickle.dump((dv,model), f_out)"
   ]
  },
  {
   "cell_type": "markdown",
   "id": "44c3ac01-baf3-44b8-a32d-6fb491c70198",
   "metadata": {},
   "source": [
    "## reading a model"
   ]
  },
  {
   "cell_type": "code",
   "execution_count": 73,
   "id": "b3a61126-be1c-4484-8a1c-aa3ee0459324",
   "metadata": {},
   "outputs": [],
   "source": [
    "sample_data = df_full_train.sample()[categorical + numerical].to_dict(orient=\"records\")"
   ]
  },
  {
   "cell_type": "code",
   "execution_count": 74,
   "id": "656e868c-4658-4418-bc25-7137798e3b0a",
   "metadata": {},
   "outputs": [
    {
     "data": {
      "text/plain": [
       "[{'onlinesecurity': 'no',\n",
       "  'deviceprotection': 'yes',\n",
       "  'gender': 'female',\n",
       "  'partner': 'no',\n",
       "  'paymentmethod': 'mailed_check',\n",
       "  'paperlessbilling': 'yes',\n",
       "  'seniorcitizen': 0,\n",
       "  'techsupport': 'no',\n",
       "  'phoneservice': 'yes',\n",
       "  'dependents': 'no',\n",
       "  'onlinebackup': 'yes',\n",
       "  'contract': 'one_year',\n",
       "  'multiplelines': 'no',\n",
       "  'streamingmovies': 'no',\n",
       "  'internetservice': 'dsl',\n",
       "  'streamingtv': 'no',\n",
       "  'tenure': 26,\n",
       "  'monthlycharges': 56.05,\n",
       "  'totalcharges': 1553.2}]"
      ]
     },
     "execution_count": 74,
     "metadata": {},
     "output_type": "execute_result"
    }
   ],
   "source": [
    "sample_data"
   ]
  },
  {
   "cell_type": "code",
   "execution_count": 75,
   "id": "08c9adc7-b7e4-4f28-af8a-a1ac31527f67",
   "metadata": {},
   "outputs": [],
   "source": [
    "input_file = f\"model_C={C}.bin\"\n",
    "with open(input_file, \"rb\") as f_in:\n",
    "    dv, model = pickle.load(f_in)"
   ]
  },
  {
   "cell_type": "code",
   "execution_count": 76,
   "id": "df537889-dc4c-40ca-8b2a-de056e9e1d59",
   "metadata": {},
   "outputs": [
    {
     "data": {
      "text/plain": [
       "array([[0.0000e+00, 1.0000e+00, 0.0000e+00, 1.0000e+00, 0.0000e+00,\n",
       "        0.0000e+00, 0.0000e+00, 1.0000e+00, 1.0000e+00, 0.0000e+00,\n",
       "        1.0000e+00, 0.0000e+00, 0.0000e+00, 5.6050e+01, 1.0000e+00,\n",
       "        0.0000e+00, 0.0000e+00, 0.0000e+00, 0.0000e+00, 1.0000e+00,\n",
       "        1.0000e+00, 0.0000e+00, 0.0000e+00, 0.0000e+00, 1.0000e+00,\n",
       "        1.0000e+00, 0.0000e+00, 0.0000e+00, 0.0000e+00, 0.0000e+00,\n",
       "        1.0000e+00, 0.0000e+00, 1.0000e+00, 0.0000e+00, 1.0000e+00,\n",
       "        0.0000e+00, 0.0000e+00, 1.0000e+00, 0.0000e+00, 0.0000e+00,\n",
       "        1.0000e+00, 0.0000e+00, 0.0000e+00, 2.6000e+01, 1.5532e+03]])"
      ]
     },
     "execution_count": 76,
     "metadata": {},
     "output_type": "execute_result"
    }
   ],
   "source": [
    "X = dv.transform(sample_data)\n",
    "X"
   ]
  },
  {
   "cell_type": "code",
   "execution_count": 77,
   "id": "63d8d1f1-c5e2-47c1-a3eb-6cb40c6c8220",
   "metadata": {},
   "outputs": [
    {
     "data": {
      "text/plain": [
       "0.09352991114422352"
      ]
     },
     "execution_count": 77,
     "metadata": {},
     "output_type": "execute_result"
    }
   ],
   "source": [
    "model.predict_proba(X)[0,1]"
   ]
  },
  {
   "cell_type": "code",
   "execution_count": 78,
   "id": "702ca4cc-abfc-43d5-a49a-c75629541fcd",
   "metadata": {},
   "outputs": [],
   "source": [
    "import requests"
   ]
  },
  {
   "cell_type": "code",
   "execution_count": 79,
   "id": "7a2bf846-f67f-4608-9bbd-fe6d906c0eac",
   "metadata": {},
   "outputs": [],
   "source": [
    "url = \"http://localhost:9696/predict\""
   ]
  },
  {
   "cell_type": "code",
   "execution_count": 80,
   "id": "ed9647de-cb40-429d-97ba-982adb370e81",
   "metadata": {},
   "outputs": [
    {
     "data": {
      "text/plain": [
       "{'onlinesecurity': 'no',\n",
       " 'deviceprotection': 'yes',\n",
       " 'gender': 'female',\n",
       " 'partner': 'no',\n",
       " 'paymentmethod': 'mailed_check',\n",
       " 'paperlessbilling': 'yes',\n",
       " 'seniorcitizen': 0,\n",
       " 'techsupport': 'no',\n",
       " 'phoneservice': 'yes',\n",
       " 'dependents': 'no',\n",
       " 'onlinebackup': 'yes',\n",
       " 'contract': 'one_year',\n",
       " 'multiplelines': 'no',\n",
       " 'streamingmovies': 'no',\n",
       " 'internetservice': 'dsl',\n",
       " 'streamingtv': 'no',\n",
       " 'tenure': 26,\n",
       " 'monthlycharges': 56.05,\n",
       " 'totalcharges': 1553.2}"
      ]
     },
     "execution_count": 80,
     "metadata": {},
     "output_type": "execute_result"
    }
   ],
   "source": [
    "customer = sample_data[0]\n",
    "customer"
   ]
  },
  {
   "cell_type": "code",
   "execution_count": 81,
   "id": "0e0a6644-2a29-41d1-be57-5e4aa69c8aeb",
   "metadata": {},
   "outputs": [
    {
     "data": {
      "text/plain": [
       "{'churn': False, 'churn_probability': 0.09352991114422352}"
      ]
     },
     "execution_count": 81,
     "metadata": {},
     "output_type": "execute_result"
    }
   ],
   "source": [
    "requests.post(url=url, json=customer).json()"
   ]
  }
 ],
 "metadata": {
  "kernelspec": {
   "display_name": "Python 3 (ipykernel)",
   "language": "python",
   "name": "python3"
  },
  "language_info": {
   "codemirror_mode": {
    "name": "ipython",
    "version": 3
   },
   "file_extension": ".py",
   "mimetype": "text/x-python",
   "name": "python",
   "nbconvert_exporter": "python",
   "pygments_lexer": "ipython3",
   "version": "3.9.19"
  }
 },
 "nbformat": 4,
 "nbformat_minor": 5
}
