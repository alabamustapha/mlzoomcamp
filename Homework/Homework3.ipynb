{
 "cells": [
  {
   "cell_type": "code",
   "execution_count": 241,
   "id": "8c209eb4-9609-4553-8349-c4a3feec78e9",
   "metadata": {},
   "outputs": [],
   "source": [
    "import numpy as np\n",
    "import pandas as pd\n",
    "import seaborn as sns\n",
    "import os\n",
    "from sklearn.metrics import mutual_info_score\n",
    "from sklearn.model_selection import train_test_split\n",
    "from sklearn.feature_extraction import DictVectorizer\n",
    "\n",
    "from sklearn.linear_model import LogisticRegression"
   ]
  },
  {
   "cell_type": "code",
   "execution_count": 242,
   "id": "21833660-8803-4967-80ea-1af97a51fcc2",
   "metadata": {},
   "outputs": [],
   "source": [
    "all_columns = [\"age\", \"job\", \"marital\", \"education\", \"balance\", \"housing\", \"contact\", \"day\", \"month\", \"duration\", \"campaign\", \"pdays\", \"previous\", \"poutcome\", \"y\"]"
   ]
  },
  {
   "cell_type": "code",
   "execution_count": 243,
   "id": "d68f97e4-0c65-4a72-9e9b-2756429b9d2a",
   "metadata": {},
   "outputs": [
    {
     "data": {
      "text/html": [
       "<div>\n",
       "<style scoped>\n",
       "    .dataframe tbody tr th:only-of-type {\n",
       "        vertical-align: middle;\n",
       "    }\n",
       "\n",
       "    .dataframe tbody tr th {\n",
       "        vertical-align: top;\n",
       "    }\n",
       "\n",
       "    .dataframe thead th {\n",
       "        text-align: right;\n",
       "    }\n",
       "</style>\n",
       "<table border=\"1\" class=\"dataframe\">\n",
       "  <thead>\n",
       "    <tr style=\"text-align: right;\">\n",
       "      <th></th>\n",
       "      <th>age</th>\n",
       "      <th>job</th>\n",
       "      <th>marital</th>\n",
       "      <th>education</th>\n",
       "      <th>balance</th>\n",
       "      <th>housing</th>\n",
       "      <th>contact</th>\n",
       "      <th>day</th>\n",
       "      <th>month</th>\n",
       "      <th>duration</th>\n",
       "      <th>campaign</th>\n",
       "      <th>pdays</th>\n",
       "      <th>previous</th>\n",
       "      <th>poutcome</th>\n",
       "      <th>y</th>\n",
       "    </tr>\n",
       "  </thead>\n",
       "  <tbody>\n",
       "    <tr>\n",
       "      <th>0</th>\n",
       "      <td>58</td>\n",
       "      <td>management</td>\n",
       "      <td>married</td>\n",
       "      <td>tertiary</td>\n",
       "      <td>2143</td>\n",
       "      <td>yes</td>\n",
       "      <td>unknown</td>\n",
       "      <td>5</td>\n",
       "      <td>may</td>\n",
       "      <td>261</td>\n",
       "      <td>1</td>\n",
       "      <td>-1</td>\n",
       "      <td>0</td>\n",
       "      <td>unknown</td>\n",
       "      <td>no</td>\n",
       "    </tr>\n",
       "    <tr>\n",
       "      <th>1</th>\n",
       "      <td>44</td>\n",
       "      <td>technician</td>\n",
       "      <td>single</td>\n",
       "      <td>secondary</td>\n",
       "      <td>29</td>\n",
       "      <td>yes</td>\n",
       "      <td>unknown</td>\n",
       "      <td>5</td>\n",
       "      <td>may</td>\n",
       "      <td>151</td>\n",
       "      <td>1</td>\n",
       "      <td>-1</td>\n",
       "      <td>0</td>\n",
       "      <td>unknown</td>\n",
       "      <td>no</td>\n",
       "    </tr>\n",
       "    <tr>\n",
       "      <th>2</th>\n",
       "      <td>33</td>\n",
       "      <td>entrepreneur</td>\n",
       "      <td>married</td>\n",
       "      <td>secondary</td>\n",
       "      <td>2</td>\n",
       "      <td>yes</td>\n",
       "      <td>unknown</td>\n",
       "      <td>5</td>\n",
       "      <td>may</td>\n",
       "      <td>76</td>\n",
       "      <td>1</td>\n",
       "      <td>-1</td>\n",
       "      <td>0</td>\n",
       "      <td>unknown</td>\n",
       "      <td>no</td>\n",
       "    </tr>\n",
       "    <tr>\n",
       "      <th>3</th>\n",
       "      <td>47</td>\n",
       "      <td>blue-collar</td>\n",
       "      <td>married</td>\n",
       "      <td>unknown</td>\n",
       "      <td>1506</td>\n",
       "      <td>yes</td>\n",
       "      <td>unknown</td>\n",
       "      <td>5</td>\n",
       "      <td>may</td>\n",
       "      <td>92</td>\n",
       "      <td>1</td>\n",
       "      <td>-1</td>\n",
       "      <td>0</td>\n",
       "      <td>unknown</td>\n",
       "      <td>no</td>\n",
       "    </tr>\n",
       "    <tr>\n",
       "      <th>4</th>\n",
       "      <td>33</td>\n",
       "      <td>unknown</td>\n",
       "      <td>single</td>\n",
       "      <td>unknown</td>\n",
       "      <td>1</td>\n",
       "      <td>no</td>\n",
       "      <td>unknown</td>\n",
       "      <td>5</td>\n",
       "      <td>may</td>\n",
       "      <td>198</td>\n",
       "      <td>1</td>\n",
       "      <td>-1</td>\n",
       "      <td>0</td>\n",
       "      <td>unknown</td>\n",
       "      <td>no</td>\n",
       "    </tr>\n",
       "  </tbody>\n",
       "</table>\n",
       "</div>"
      ],
      "text/plain": [
       "   age           job  marital  education  balance housing  contact  day month  \\\n",
       "0   58    management  married   tertiary     2143     yes  unknown    5   may   \n",
       "1   44    technician   single  secondary       29     yes  unknown    5   may   \n",
       "2   33  entrepreneur  married  secondary        2     yes  unknown    5   may   \n",
       "3   47   blue-collar  married    unknown     1506     yes  unknown    5   may   \n",
       "4   33       unknown   single    unknown        1      no  unknown    5   may   \n",
       "\n",
       "   duration  campaign  pdays  previous poutcome   y  \n",
       "0       261         1     -1         0  unknown  no  \n",
       "1       151         1     -1         0  unknown  no  \n",
       "2        76         1     -1         0  unknown  no  \n",
       "3        92         1     -1         0  unknown  no  \n",
       "4       198         1     -1         0  unknown  no  "
      ]
     },
     "execution_count": 243,
     "metadata": {},
     "output_type": "execute_result"
    }
   ],
   "source": [
    "bank_df = pd.read_csv(\"bank-full.csv\", delimiter=\";\", usecols=all_columns)\n",
    "bank_df.head()"
   ]
  },
  {
   "cell_type": "markdown",
   "id": "f40be437-4e55-4f3d-a82e-257d7238dd93",
   "metadata": {},
   "source": [
    "## check missing values"
   ]
  },
  {
   "cell_type": "code",
   "execution_count": 244,
   "id": "b2302f01-4a2b-4ff3-af09-c0a7a089a188",
   "metadata": {},
   "outputs": [
    {
     "data": {
      "text/plain": [
       "age          0\n",
       "job          0\n",
       "marital      0\n",
       "education    0\n",
       "balance      0\n",
       "housing      0\n",
       "contact      0\n",
       "day          0\n",
       "month        0\n",
       "duration     0\n",
       "campaign     0\n",
       "pdays        0\n",
       "previous     0\n",
       "poutcome     0\n",
       "y            0\n",
       "dtype: int64"
      ]
     },
     "execution_count": 244,
     "metadata": {},
     "output_type": "execute_result"
    }
   ],
   "source": [
    "bank_df.isnull().sum()"
   ]
  },
  {
   "cell_type": "markdown",
   "id": "5773d0d3-75a8-47ed-aa80-973cc112e7ee",
   "metadata": {},
   "source": [
    "## Question 1\n",
    "ans = secondary"
   ]
  },
  {
   "cell_type": "code",
   "execution_count": 245,
   "id": "a2102e0c-212d-4e5f-9631-e7eb566a8f42",
   "metadata": {},
   "outputs": [
    {
     "data": {
      "text/plain": [
       "education\n",
       "secondary    23202\n",
       "tertiary     13301\n",
       "primary       6851\n",
       "unknown       1857\n",
       "Name: count, dtype: int64"
      ]
     },
     "execution_count": 245,
     "metadata": {},
     "output_type": "execute_result"
    }
   ],
   "source": [
    "bank_df[\"education\"].value_counts()"
   ]
  },
  {
   "cell_type": "markdown",
   "id": "2068ed12-64fd-4f3c-9974-a288c14e4c54",
   "metadata": {},
   "source": [
    "## Correlation matrix"
   ]
  },
  {
   "cell_type": "code",
   "execution_count": 246,
   "id": "8c8946c2-5746-4738-a19e-41a85ea37759",
   "metadata": {},
   "outputs": [
    {
     "data": {
      "text/plain": [
       "age           int64\n",
       "job          object\n",
       "marital      object\n",
       "education    object\n",
       "balance       int64\n",
       "housing      object\n",
       "contact      object\n",
       "day           int64\n",
       "month        object\n",
       "duration      int64\n",
       "campaign      int64\n",
       "pdays         int64\n",
       "previous      int64\n",
       "poutcome     object\n",
       "y            object\n",
       "dtype: object"
      ]
     },
     "execution_count": 246,
     "metadata": {},
     "output_type": "execute_result"
    }
   ],
   "source": [
    "bank_df.dtypes"
   ]
  },
  {
   "cell_type": "code",
   "execution_count": 247,
   "id": "35b13af6-4636-45a1-90d7-0797dedbd3e5",
   "metadata": {},
   "outputs": [],
   "source": [
    "numeric_columns = [\"age\", \"balance\", \"day\", \"duration\", \"campaign\", \"pdays\", \"previous\"]\n",
    "categorical_columns =  ['job', 'marital', 'education', 'housing', 'contact', 'month',  'poutcome']"
   ]
  },
  {
   "cell_type": "code",
   "execution_count": 248,
   "id": "0b73244d-59d9-4790-ace8-9e1929119d2a",
   "metadata": {},
   "outputs": [],
   "source": [
    "for col in categorical_columns:\n",
    "    bank_df[col] = bank_df[col].str.lower().str.replace(' ', \"_\")"
   ]
  },
  {
   "cell_type": "code",
   "execution_count": 249,
   "id": "011974b7-a2de-4300-a51b-825c8fc06585",
   "metadata": {},
   "outputs": [
    {
     "data": {
      "text/html": [
       "<div>\n",
       "<style scoped>\n",
       "    .dataframe tbody tr th:only-of-type {\n",
       "        vertical-align: middle;\n",
       "    }\n",
       "\n",
       "    .dataframe tbody tr th {\n",
       "        vertical-align: top;\n",
       "    }\n",
       "\n",
       "    .dataframe thead th {\n",
       "        text-align: right;\n",
       "    }\n",
       "</style>\n",
       "<table border=\"1\" class=\"dataframe\">\n",
       "  <thead>\n",
       "    <tr style=\"text-align: right;\">\n",
       "      <th></th>\n",
       "      <th>age</th>\n",
       "      <th>balance</th>\n",
       "      <th>day</th>\n",
       "      <th>duration</th>\n",
       "      <th>campaign</th>\n",
       "      <th>pdays</th>\n",
       "      <th>previous</th>\n",
       "    </tr>\n",
       "  </thead>\n",
       "  <tbody>\n",
       "    <tr>\n",
       "      <th>age</th>\n",
       "      <td>1.000000</td>\n",
       "      <td>0.097783</td>\n",
       "      <td>-0.009120</td>\n",
       "      <td>-0.004648</td>\n",
       "      <td>0.004760</td>\n",
       "      <td>-0.023758</td>\n",
       "      <td>0.001288</td>\n",
       "    </tr>\n",
       "    <tr>\n",
       "      <th>balance</th>\n",
       "      <td>0.097783</td>\n",
       "      <td>1.000000</td>\n",
       "      <td>0.004503</td>\n",
       "      <td>0.021560</td>\n",
       "      <td>-0.014578</td>\n",
       "      <td>0.003435</td>\n",
       "      <td>0.016674</td>\n",
       "    </tr>\n",
       "    <tr>\n",
       "      <th>day</th>\n",
       "      <td>-0.009120</td>\n",
       "      <td>0.004503</td>\n",
       "      <td>1.000000</td>\n",
       "      <td>-0.030206</td>\n",
       "      <td>0.162490</td>\n",
       "      <td>-0.093044</td>\n",
       "      <td>-0.051710</td>\n",
       "    </tr>\n",
       "    <tr>\n",
       "      <th>duration</th>\n",
       "      <td>-0.004648</td>\n",
       "      <td>0.021560</td>\n",
       "      <td>-0.030206</td>\n",
       "      <td>1.000000</td>\n",
       "      <td>-0.084570</td>\n",
       "      <td>-0.001565</td>\n",
       "      <td>0.001203</td>\n",
       "    </tr>\n",
       "    <tr>\n",
       "      <th>campaign</th>\n",
       "      <td>0.004760</td>\n",
       "      <td>-0.014578</td>\n",
       "      <td>0.162490</td>\n",
       "      <td>-0.084570</td>\n",
       "      <td>1.000000</td>\n",
       "      <td>-0.088628</td>\n",
       "      <td>-0.032855</td>\n",
       "    </tr>\n",
       "    <tr>\n",
       "      <th>pdays</th>\n",
       "      <td>-0.023758</td>\n",
       "      <td>0.003435</td>\n",
       "      <td>-0.093044</td>\n",
       "      <td>-0.001565</td>\n",
       "      <td>-0.088628</td>\n",
       "      <td>1.000000</td>\n",
       "      <td>0.454820</td>\n",
       "    </tr>\n",
       "    <tr>\n",
       "      <th>previous</th>\n",
       "      <td>0.001288</td>\n",
       "      <td>0.016674</td>\n",
       "      <td>-0.051710</td>\n",
       "      <td>0.001203</td>\n",
       "      <td>-0.032855</td>\n",
       "      <td>0.454820</td>\n",
       "      <td>1.000000</td>\n",
       "    </tr>\n",
       "  </tbody>\n",
       "</table>\n",
       "</div>"
      ],
      "text/plain": [
       "               age   balance       day  duration  campaign     pdays  previous\n",
       "age       1.000000  0.097783 -0.009120 -0.004648  0.004760 -0.023758  0.001288\n",
       "balance   0.097783  1.000000  0.004503  0.021560 -0.014578  0.003435  0.016674\n",
       "day      -0.009120  0.004503  1.000000 -0.030206  0.162490 -0.093044 -0.051710\n",
       "duration -0.004648  0.021560 -0.030206  1.000000 -0.084570 -0.001565  0.001203\n",
       "campaign  0.004760 -0.014578  0.162490 -0.084570  1.000000 -0.088628 -0.032855\n",
       "pdays    -0.023758  0.003435 -0.093044 -0.001565 -0.088628  1.000000  0.454820\n",
       "previous  0.001288  0.016674 -0.051710  0.001203 -0.032855  0.454820  1.000000"
      ]
     },
     "execution_count": 249,
     "metadata": {},
     "output_type": "execute_result"
    }
   ],
   "source": [
    "corr_matrix = bank_df[numeric_columns].corr()\n",
    "corr_matrix"
   ]
  },
  {
   "cell_type": "code",
   "execution_count": 250,
   "id": "96050cc7-d31b-4f2b-9c52-074824e5dfd0",
   "metadata": {},
   "outputs": [
    {
     "data": {
      "text/plain": [
       "<Axes: >"
      ]
     },
     "execution_count": 250,
     "metadata": {},
     "output_type": "execute_result"
    },
    {
     "data": {
      "image/png": "[encoded data removed]",
      "text/plain": [
       "<Figure size 640x480 with 2 Axes>"
      ]
     },
     "metadata": {},
     "output_type": "display_data"
    }
   ],
   "source": [
    "sns.heatmap(corr_matrix, annot=True, cmap='coolwarm', square=True)"
   ]
  },
  {
   "cell_type": "markdown",
   "id": "b35fb98b-1298-40b7-956f-6a80d09a79ea",
   "metadata": {},
   "source": [
    "## encode y"
   ]
  },
  {
   "cell_type": "code",
   "execution_count": 251,
   "id": "7db203a7-04d7-4b10-8630-ec607d4f9547",
   "metadata": {},
   "outputs": [
    {
     "data": {
      "text/plain": [
       "y\n",
       "0    39922\n",
       "1     5289\n",
       "Name: count, dtype: int64"
      ]
     },
     "execution_count": 251,
     "metadata": {},
     "output_type": "execute_result"
    }
   ],
   "source": [
    "bank_df[\"y\"] = (bank_df.y == \"yes\").astype(int)\n",
    "bank_df.y.value_counts()"
   ]
  },
  {
   "cell_type": "markdown",
   "id": "986117ca-3370-467f-96bd-46f4b3761c70",
   "metadata": {},
   "source": [
    "## data splitting"
   ]
  },
  {
   "cell_type": "code",
   "execution_count": 252,
   "id": "61b66cb8-e356-40bd-98c4-6c2096bfa022",
   "metadata": {},
   "outputs": [
    {
     "data": {
      "text/plain": [
       "((36168, 15), (9043, 15))"
      ]
     },
     "execution_count": 252,
     "metadata": {},
     "output_type": "execute_result"
    }
   ],
   "source": [
    "df_full_train, df_test = train_test_split(bank_df, test_size=0.2, random_state=42)\n",
    "df_full_train.shape, df_test.shape"
   ]
  },
  {
   "cell_type": "code",
   "execution_count": 253,
   "id": "d332de54-09bb-4543-b4e4-90177b711c39",
   "metadata": {},
   "outputs": [
    {
     "data": {
      "text/plain": [
       "((27126, 15), (9042, 15))"
      ]
     },
     "execution_count": 253,
     "metadata": {},
     "output_type": "execute_result"
    }
   ],
   "source": [
    "df_train, df_val = train_test_split(df_full_train, test_size=0.25, random_state=42)\n",
    "\n",
    "df_train.shape, df_val.shape"
   ]
  },
  {
   "cell_type": "code",
   "execution_count": 254,
   "id": "601c0610-05f0-4fef-886a-6ccc15eda006",
   "metadata": {},
   "outputs": [],
   "source": [
    "y_train = df_train['y']\n",
    "y_val = df_val['y']\n",
    "y_test = df_test['y']\n",
    "\n",
    "del df_train['y']\n",
    "del df_val['y']\n",
    "del df_test['y']"
   ]
  },
  {
   "cell_type": "markdown",
   "id": "daa5b435-f293-441d-bd92-0793fbb47e63",
   "metadata": {},
   "source": [
    "## Mutual info score"
   ]
  },
  {
   "cell_type": "code",
   "execution_count": 255,
   "id": "22967266-5d64-4935-a3a7-e0de80c0c612",
   "metadata": {},
   "outputs": [],
   "source": [
    "def mutual_info(series):\n",
    "    return mutual_info_score(series, y_train)"
   ]
  },
  {
   "cell_type": "code",
   "execution_count": 256,
   "id": "c92e8af8-b30a-4079-8c82-3efe327c9a0a",
   "metadata": {},
   "outputs": [
    {
     "data": {
      "text/plain": [
       "poutcome     0.03\n",
       "month        0.03\n",
       "contact      0.01\n",
       "housing      0.01\n",
       "job          0.01\n",
       "education    0.00\n",
       "marital      0.00\n",
       "dtype: float64"
      ]
     },
     "execution_count": 256,
     "metadata": {},
     "output_type": "execute_result"
    }
   ],
   "source": [
    "mi = df_train[categorical_columns].apply(mutual_info)\n",
    "\n",
    "round(mi.sort_values(ascending=False),2)"
   ]
  },
  {
   "cell_type": "markdown",
   "id": "ede84211-b344-47ca-99fc-e5b103ecb0f7",
   "metadata": {},
   "source": [
    "## Train a model"
   ]
  },
  {
   "cell_type": "code",
   "execution_count": 257,
   "id": "2392a756-8be3-4ab9-966f-f7faf76e7183",
   "metadata": {},
   "outputs": [],
   "source": [
    "dv = DictVectorizer()\n",
    "\n",
    "train_dicts = df_train[categorical_columns + numeric_columns].to_dict(orient=\"records\")\n",
    "val_dicts = df_val[categorical_columns + numeric_columns].to_dict(orient=\"records\")\n",
    "test_dicts = df_test[categorical_columns + numeric_columns].to_dict(orient=\"records\")\n",
    "\n",
    "X_train = dv.fit_transform(train_dicts)\n",
    "X_val = dv.transform(val_dicts)\n",
    "X_test = dv.transform(test_dicts)"
   ]
  },
  {
   "cell_type": "code",
   "execution_count": 258,
   "id": "e7810cdd-966a-4ff7-85bd-b199bbd026ad",
   "metadata": {},
   "outputs": [
    {
     "data": {
      "text/plain": [
       "array([-2.00523311e-03,  1.07562568e-05, -8.31669577e-02,  2.65103826e-01,\n",
       "        8.61369738e-02, -1.31132269e+00,  8.38425793e-03,  4.11456162e-03,\n",
       "       -4.29946694e-01, -2.45019832e-01, -5.56118109e-02, -2.29503552e-01,\n",
       "       -1.27222320e-01, -8.32859568e-01,  7.65160865e-02, -2.06827968e-01,\n",
       "       -2.71902014e-01, -3.26731090e-01, -7.66834538e-02,  2.81494397e-01,\n",
       "       -3.10040169e-01, -1.29817976e-01,  2.85376305e-01, -1.45453241e-01,\n",
       "        2.72411026e-02, -1.63253868e-01, -3.07550477e-01, -4.67789849e-01,\n",
       "       -1.84741562e-01, -1.48791563e-02, -7.28760875e-01,  3.75583342e-01,\n",
       "       -3.48439881e-01, -1.16765381e+00, -1.02893559e+00,  3.41997224e-01,\n",
       "        1.48870498e+00, -5.00907110e-01, -1.00853355e+00,  8.23287733e-01,\n",
       "        8.08454800e-01, -4.17877307e-04, -7.90179585e-01, -6.41396870e-01,\n",
       "        1.44429564e+00, -9.72801075e-01,  1.16647940e-02])"
      ]
     },
     "execution_count": 258,
     "metadata": {},
     "output_type": "execute_result"
    }
   ],
   "source": [
    "\n",
    "model = LogisticRegression(solver='liblinear', C=1.0, max_iter=1000, random_state=42)\n",
    "model.fit(X_train, y_train)\n",
    "\n",
    "model.coef_[0]"
   ]
  },
  {
   "cell_type": "code",
   "execution_count": 259,
   "id": "bbc592d4-ba09-4795-8503-271e8c70e7e1",
   "metadata": {},
   "outputs": [
    {
     "data": {
      "text/plain": [
       "0.9"
      ]
     },
     "execution_count": 259,
     "metadata": {},
     "output_type": "execute_result"
    }
   ],
   "source": [
    "y_pred = model.predict(X_val)\n",
    "\n",
    "original_accuracy = (y_pred == y_val).mean()\n",
    "\n",
    "round(original_accuracy, 2)"
   ]
  },
  {
   "cell_type": "markdown",
   "id": "fa848634-2c7e-4d68-ac1c-f1b60b8f0324",
   "metadata": {},
   "source": [
    "## feature elimination"
   ]
  },
  {
   "cell_type": "code",
   "execution_count": null,
   "id": "2bb38633-9e04-49f9-8f82-2f0b234416f8",
   "metadata": {},
   "outputs": [],
   "source": [
    "\n",
    "feature_accuracy = []\n",
    "\n",
    "for feature in categorical_columns + numeric_columns:\n",
    "\n",
    "    features = categorical_columns + numeric_columns\n",
    "    \n",
    "    features.remove(feature)\n",
    "    \n",
    "    dv = DictVectorizer()\n",
    "    train_dicts = df_train[features].to_dict(orient=\"records\")\n",
    "    val_dicts = df_val[features].to_dict(orient=\"records\")\n",
    "    \n",
    "    \n",
    "    X_train = dv.fit_transform(train_dicts)\n",
    "    X_val = dv.transform(val_dicts)\n",
    "\n",
    "\n",
    "    model = LogisticRegression(solver='liblinear', C=1.0, max_iter=1000, random_state=42)\n",
    "    model.fit(X_train, y_train)\n",
    "    \n",
    "    y_pred = model.predict(X_val)\n",
    "\n",
    "    accuracy_without_feature = (y_pred == y_val).mean()\n",
    "\n",
    "    feature_accuracy.append([feature, accuracy_without_feature])\n",
    "\n"
   ]
  },
  {
   "cell_type": "code",
   "execution_count": null,
   "id": "e1c7e303-7b83-43f3-8ddd-34cc2d46efb6",
   "metadata": {},
   "outputs": [],
   "source": [
    "accuracy_result = pd.DataFrame(feature_accuracy, columns=['missing_feature','accuracy'])\n",
    "accuracy_result['diff']  = original_accuracy - accuracy_result['accuracy']\n",
    "\n",
    "accuracy_result.sort_values(by=\"diff\", ascending=True)"
   ]
  },
  {
   "cell_type": "code",
   "execution_count": null,
   "id": "ba9ab50d-1fc2-4ade-9e80-2ccf906afb30",
   "metadata": {},
   "outputs": [],
   "source": [
    "\n",
    "features = categorical_columns + numeric_columns\n",
    "\n",
    "dv = DictVectorizer()\n",
    "train_dicts = df_train[features].to_dict(orient=\"records\")\n",
    "val_dicts = df_val[features].to_dict(orient=\"records\")\n",
    "\n",
    "X_train = dv.fit_transform(train_dicts)\n",
    "X_val = dv.transform(val_dicts)\n",
    "\n",
    "c_accuracy  = []\n",
    "for c in [0.01, 0.1, 1, 10, 100]:\n",
    "\n",
    "\n",
    "    model = LogisticRegression(solver='liblinear', C=c, max_iter=1000, random_state=42)\n",
    "    model.fit(X_train, y_train)\n",
    "    \n",
    "    y_pred = model.predict(X_val)\n",
    "\n",
    "    accuracy = (y_pred == y_val).mean()\n",
    "\n",
    "    c_accuracy.append([c, round(accuracy,3)])\n",
    "\n"
   ]
  },
  {
   "cell_type": "code",
   "execution_count": null,
   "id": "d81054d1-c696-43a4-abc9-b6050dee9cd7",
   "metadata": {},
   "outputs": [],
   "source": [
    "accuracy_result = pd.DataFrame(c_accuracy, columns=['c','accuracy'])\n",
    "\n",
    "accuracy_result.sort_values(by=\"accuracy\", ascending=False)"
   ]
  }
 ],
 "metadata": {
  "kernelspec": {
   "display_name": "Python 3 (ipykernel)",
   "language": "python",
   "name": "python3"
  },
  "language_info": {
   "codemirror_mode": {
    "name": "ipython",
    "version": 3
   },
   "file_extension": ".py",
   "mimetype": "text/x-python",
   "name": "python",
   "nbconvert_exporter": "python",
   "pygments_lexer": "ipython3",
   "version": "3.9.19"
  }
 },
 "nbformat": 4,
 "nbformat_minor": 5
}
