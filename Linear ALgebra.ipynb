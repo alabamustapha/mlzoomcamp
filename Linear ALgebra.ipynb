{
 "cells": [
  {
   "cell_type": "code",
   "execution_count": 1,
   "id": "06bfa38c-3561-47b2-a288-647cc9e56b4f",
   "metadata": {},
   "outputs": [],
   "source": [
    "import numpy as np"
   ]
  },
  {
   "cell_type": "code",
   "execution_count": 2,
   "id": "1bdd2269-0107-401d-a0c6-6c2576b98a73",
   "metadata": {},
   "outputs": [],
   "source": [
    "def vector_vector_multiplication(u,v):\n",
    "    assert u.shape[0] == v.shape[0]\n",
    "\n",
    "    result = 0\n",
    "    for i in range(u.shape[0]):\n",
    "        result = result + u[i] * v[i]\n",
    "\n",
    "    return result"
   ]
  },
  {
   "cell_type": "code",
   "execution_count": 3,
   "id": "4021c1fb-ee24-4990-9439-3283410b6175",
   "metadata": {},
   "outputs": [
    {
     "data": {
      "text/plain": [
       "array([1, 2, 3, 4, 5])"
      ]
     },
     "execution_count": 3,
     "metadata": {},
     "output_type": "execute_result"
    }
   ],
   "source": [
    "u = np.array([1,2,3,4,5])\n",
    "u"
   ]
  },
  {
   "cell_type": "code",
   "execution_count": 4,
   "id": "b964a05a-a1c1-461b-bd8d-cc2d5624d4a9",
   "metadata": {},
   "outputs": [
    {
     "data": {
      "text/plain": [
       "array([1, 2, 1, 3, 0])"
      ]
     },
     "execution_count": 4,
     "metadata": {},
     "output_type": "execute_result"
    }
   ],
   "source": [
    "v = np.array([1,2,1,3,0])\n",
    "v"
   ]
  },
  {
   "cell_type": "code",
   "execution_count": 5,
   "id": "33a6f922-b848-40f8-9a9a-81226faf2cd2",
   "metadata": {},
   "outputs": [
    {
     "data": {
      "text/plain": [
       "20"
      ]
     },
     "execution_count": 5,
     "metadata": {},
     "output_type": "execute_result"
    }
   ],
   "source": [
    "vector_vector_multiplication(u,v)"
   ]
  },
  {
   "cell_type": "code",
   "execution_count": 6,
   "id": "d1fc8dec-2de6-4889-a600-ab124dc47bd0",
   "metadata": {},
   "outputs": [
    {
     "data": {
      "text/plain": [
       "20"
      ]
     },
     "execution_count": 6,
     "metadata": {},
     "output_type": "execute_result"
    }
   ],
   "source": [
    "u.dot(v)"
   ]
  },
  {
   "cell_type": "code",
   "execution_count": 7,
   "id": "1d9c84e4-5171-4e85-b61b-a2cd087340db",
   "metadata": {},
   "outputs": [
    {
     "data": {
      "text/plain": [
       "20"
      ]
     },
     "execution_count": 7,
     "metadata": {},
     "output_type": "execute_result"
    }
   ],
   "source": [
    "v.dot(u)"
   ]
  },
  {
   "cell_type": "code",
   "execution_count": 8,
   "id": "94d57de7-ca36-496b-a68a-f516c30c73ff",
   "metadata": {},
   "outputs": [],
   "source": [
    "U = np.array([\n",
    "    [1,2,3,4],\n",
    "    [5,6,7,8],\n",
    "    [0,4,6,3]\n",
    "])"
   ]
  },
  {
   "cell_type": "code",
   "execution_count": 10,
   "id": "ae04e881-0f0b-4051-958c-e0f6b2ecb441",
   "metadata": {},
   "outputs": [
    {
     "data": {
      "text/plain": [
       "(3, 4)"
      ]
     },
     "execution_count": 10,
     "metadata": {},
     "output_type": "execute_result"
    }
   ],
   "source": [
    "U.shape"
   ]
  },
  {
   "cell_type": "code",
   "execution_count": 15,
   "id": "bd16c798-645d-4fb1-bf91-d79a313d88b9",
   "metadata": {},
   "outputs": [
    {
     "data": {
      "text/plain": [
       "array([1, 2, 1, 3])"
      ]
     },
     "execution_count": 15,
     "metadata": {},
     "output_type": "execute_result"
    }
   ],
   "source": [
    "v[:4]"
   ]
  },
  {
   "cell_type": "code",
   "execution_count": 31,
   "id": "acccfb87-d4f1-4225-a6f9-2f32c21f6ad1",
   "metadata": {},
   "outputs": [],
   "source": [
    "def matrix_vector_multiplication(U, v):\n",
    "    assert U.shape[1] == v.shape[0]\n",
    "\n",
    "    result = np.zeros(U.shape[0])     \n",
    "    for i in range(U.shape[0]):\n",
    "        result[i] = vector_vector_multiplication(U[i], v)\n",
    "\n",
    "    return result"
   ]
  },
  {
   "cell_type": "code",
   "execution_count": 32,
   "id": "ba8061ef-6c25-4455-81ff-75f861a551e7",
   "metadata": {},
   "outputs": [
    {
     "data": {
      "text/plain": [
       "array([20., 48., 23.])"
      ]
     },
     "execution_count": 32,
     "metadata": {},
     "output_type": "execute_result"
    }
   ],
   "source": [
    "matrix_vector_multiplication(U, v[:4])"
   ]
  },
  {
   "cell_type": "code",
   "execution_count": 34,
   "id": "34218bbb-c6d1-4632-927b-be1d743df623",
   "metadata": {},
   "outputs": [
    {
     "data": {
      "text/plain": [
       "array([20, 48, 23])"
      ]
     },
     "execution_count": 34,
     "metadata": {},
     "output_type": "execute_result"
    }
   ],
   "source": [
    "U.dot(v[:4])"
   ]
  },
  {
   "cell_type": "code",
   "execution_count": 38,
   "id": "bb21545f-fae3-4aa9-8033-a555fd5bcd8a",
   "metadata": {},
   "outputs": [
    {
     "data": {
      "text/plain": [
       "array([[1, 2, 3, 4],\n",
       "       [5, 6, 7, 8],\n",
       "       [0, 4, 6, 3]])"
      ]
     },
     "execution_count": 38,
     "metadata": {},
     "output_type": "execute_result"
    }
   ],
   "source": [
    "U"
   ]
  },
  {
   "cell_type": "code",
   "execution_count": 45,
   "id": "d5f3e57d-361f-420c-a9dc-c1ebe3520a4d",
   "metadata": {},
   "outputs": [],
   "source": [
    "V = np.array([\n",
    "    [1,2,3,4],\n",
    "    [1,2,3,4],\n",
    "    [1,2,3,4],\n",
    "    [1,2,3,4],\n",
    "])"
   ]
  },
  {
   "cell_type": "code",
   "execution_count": 46,
   "id": "97dda21b-fa6f-46c3-b714-b74dbab03fb2",
   "metadata": {},
   "outputs": [
    {
     "data": {
      "text/plain": [
       "((4, 4), (3, 4))"
      ]
     },
     "execution_count": 46,
     "metadata": {},
     "output_type": "execute_result"
    }
   ],
   "source": [
    "V.shape, U.shape"
   ]
  },
  {
   "cell_type": "code",
   "execution_count": 49,
   "id": "70eefbcd-fe1e-4324-8bc0-f3a1b4871cf3",
   "metadata": {},
   "outputs": [],
   "source": [
    "def matrix_matrix_multiplication(U, V):\n",
    "    assert U.shape[1] == V.shape[0]\n",
    "\n",
    "    rows = U.shape[0] \n",
    "    cols = V.shape[1]\n",
    "    result = np.zeros((rows, cols))\n",
    "    \n",
    "    for i in range(cols):\n",
    "        result[:, i] = matrix_vector_multiplication(U, V[:,i])\n",
    "\n",
    "    return result"
   ]
  },
  {
   "cell_type": "code",
   "execution_count": 50,
   "id": "2fb4d223-069c-4f71-b364-f4510e9ffb1f",
   "metadata": {},
   "outputs": [
    {
     "data": {
      "text/plain": [
       "array([[ 10.,  20.,  30.,  40.],\n",
       "       [ 26.,  52.,  78., 104.],\n",
       "       [ 13.,  26.,  39.,  52.]])"
      ]
     },
     "execution_count": 50,
     "metadata": {},
     "output_type": "execute_result"
    }
   ],
   "source": [
    "matrix_matrix_multiplication(U, V)"
   ]
  },
  {
   "cell_type": "code",
   "execution_count": 52,
   "id": "b02999e7-3bfe-4b9a-8928-a1b24ae1dfb8",
   "metadata": {},
   "outputs": [
    {
     "data": {
      "text/plain": [
       "array([[ 10,  20,  30,  40],\n",
       "       [ 26,  52,  78, 104],\n",
       "       [ 13,  26,  39,  52]])"
      ]
     },
     "execution_count": 52,
     "metadata": {},
     "output_type": "execute_result"
    }
   ],
   "source": [
    "U.dot(V)"
   ]
  },
  {
   "cell_type": "code",
   "execution_count": 51,
   "id": "ff267976-f235-4111-baf7-9c883a9330c9",
   "metadata": {},
   "outputs": [
    {
     "data": {
      "text/plain": [
       "array([[1., 0., 0.],\n",
       "       [0., 1., 0.],\n",
       "       [0., 0., 1.]])"
      ]
     },
     "execution_count": 51,
     "metadata": {},
     "output_type": "execute_result"
    }
   ],
   "source": [
    "np.eye(3)"
   ]
  },
  {
   "cell_type": "code",
   "execution_count": 54,
   "id": "172502c2-dec9-4437-a3af-872fd149434d",
   "metadata": {},
   "outputs": [
    {
     "ename": "TypeError",
     "evalue": "array() takes from 1 to 2 positional arguments but 3 were given",
     "output_type": "error",
     "traceback": [
      "\u001b[0;31m---------------------------------------------------------------------------\u001b[0m",
      "\u001b[0;31mTypeError\u001b[0m                                 Traceback (most recent call last)",
      "Cell \u001b[0;32mIn[54], line 1\u001b[0m\n\u001b[0;32m----> 1\u001b[0m np\u001b[38;5;241m.\u001b[39mlinalg\u001b[38;5;241m.\u001b[39minv(\u001b[43mnp\u001b[49m\u001b[38;5;241;43m.\u001b[39;49m\u001b[43marray\u001b[49m\u001b[43m(\u001b[49m\n\u001b[1;32m      2\u001b[0m \u001b[43m    \u001b[49m\u001b[43m[\u001b[49m\u001b[38;5;241;43m2\u001b[39;49m\u001b[43m,\u001b[49m\u001b[43m \u001b[49m\u001b[38;5;241;43m3\u001b[39;49m\u001b[43m,\u001b[49m\u001b[43m \u001b[49m\u001b[38;5;241;43m4\u001b[39;49m\u001b[43m]\u001b[49m\u001b[43m,\u001b[49m\n\u001b[1;32m      3\u001b[0m \u001b[43m    \u001b[49m\u001b[43m[\u001b[49m\u001b[38;5;241;43m6\u001b[39;49m\u001b[43m,\u001b[49m\u001b[43m \u001b[49m\u001b[38;5;241;43m7\u001b[39;49m\u001b[43m,\u001b[49m\u001b[43m \u001b[49m\u001b[38;5;241;43m8\u001b[39;49m\u001b[43m]\u001b[49m\u001b[43m,\u001b[49m\n\u001b[1;32m      4\u001b[0m \u001b[43m    \u001b[49m\u001b[43m[\u001b[49m\u001b[38;5;241;43m4\u001b[39;49m\u001b[43m,\u001b[49m\u001b[43m \u001b[49m\u001b[38;5;241;43m6\u001b[39;49m\u001b[43m,\u001b[49m\u001b[43m \u001b[49m\u001b[38;5;241;43m3\u001b[39;49m\u001b[43m]\u001b[49m\n\u001b[1;32m      5\u001b[0m \u001b[43m)\u001b[49m)\n",
      "\u001b[0;31mTypeError\u001b[0m: array() takes from 1 to 2 positional arguments but 3 were given"
     ]
    }
   ],
   "source": [
    "np.linalg.inv(np.array([\n",
    "    [2, 3, 4],\n",
    "    [6, 7, 8],\n",
    "    [4, 6, 3]\n",
    "))"
   ]
  }
 ],
 "metadata": {
  "kernelspec": {
   "display_name": "Python 3 (ipykernel)",
   "language": "python",
   "name": "python3"
  },
  "language_info": {
   "codemirror_mode": {
    "name": "ipython",
    "version": 3
   },
   "file_extension": ".py",
   "mimetype": "text/x-python",
   "name": "python",
   "nbconvert_exporter": "python",
   "pygments_lexer": "ipython3",
   "version": "3.9.19"
  }
 },
 "nbformat": 4,
 "nbformat_minor": 5
}
