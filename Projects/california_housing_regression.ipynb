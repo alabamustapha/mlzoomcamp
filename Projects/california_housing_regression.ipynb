{
 "cells": [
  {
   "cell_type": "markdown",
   "id": "9afdc5fa-f6c1-4c55-87c4-25070f84ccf0",
   "metadata": {},
   "source": [
    "# California Housing Prediction"
   ]
  },
  {
   "cell_type": "code",
   "execution_count": 1,
   "id": "548eeacc-8266-4728-81b3-e28f4f03ee01",
   "metadata": {},
   "outputs": [],
   "source": [
    "from sklearn.datasets import fetch_california_housing\n",
    "import seaborn as sns\n",
    "import numpy as np\n",
    "import pandas as pd\n",
    "from tabulate import tabulate"
   ]
  },
  {
   "cell_type": "code",
   "execution_count": 2,
   "id": "e798b995-fd04-451e-8941-076225e0ef38",
   "metadata": {},
   "outputs": [],
   "source": [
    "housing = fetch_california_housing() #import dataset"
   ]
  },
  {
   "cell_type": "code",
   "execution_count": 3,
   "id": "c86c1529-e054-448c-b5cd-cad27d9f0609",
   "metadata": {},
   "outputs": [
    {
     "name": "stdout",
     "output_type": "stream",
     "text": [
      "(20640, 8) (20640,)\n",
      "['MedInc', 'HouseAge', 'AveRooms', 'AveBedrms', 'Population', 'AveOccup', 'Latitude', 'Longitude']\n"
     ]
    }
   ],
   "source": [
    "#check dataset structure \n",
    "print(housing.data.shape, housing.target.shape)\n",
    "print(housing.feature_names)"
   ]
  },
  {
   "cell_type": "code",
   "execution_count": 4,
   "id": "b4c517fe-5efc-4bd6-a8b6-5746f7d3fd8c",
   "metadata": {
    "scrolled": true
   },
   "outputs": [
    {
     "data": {
      "text/plain": [
       "<Axes: ylabel='Count'>"
      ]
     },
     "execution_count": 4,
     "metadata": {},
     "output_type": "execute_result"
    },
    {
     "data": {
      "image/png": "[encoded data removed]",
      "text/plain": [
       "<Figure size 640x480 with 1 Axes>"
      ]
     },
     "metadata": {},
     "output_type": "display_data"
    }
   ],
   "source": [
    "# view data set in log transform \n",
    "target_log1p = np.log1p(housing[\"target\"])\n",
    "sns.histplot(target_log1p)"
   ]
  },
  {
   "cell_type": "code",
   "execution_count": 5,
   "id": "778370de-f716-422b-a814-28878a9bf2e9",
   "metadata": {},
   "outputs": [],
   "source": [
    "n = housing.data.shape[0] #total records"
   ]
  },
  {
   "cell_type": "code",
   "execution_count": 6,
   "id": "d181faa6-d31e-413d-a81a-9ecd5189e921",
   "metadata": {},
   "outputs": [
    {
     "data": {
      "text/html": [
       "<div>\n",
       "<style scoped>\n",
       "    .dataframe tbody tr th:only-of-type {\n",
       "        vertical-align: middle;\n",
       "    }\n",
       "\n",
       "    .dataframe tbody tr th {\n",
       "        vertical-align: top;\n",
       "    }\n",
       "\n",
       "    .dataframe thead th {\n",
       "        text-align: right;\n",
       "    }\n",
       "</style>\n",
       "<table border=\"1\" class=\"dataframe\">\n",
       "  <thead>\n",
       "    <tr style=\"text-align: right;\">\n",
       "      <th></th>\n",
       "      <th>MedInc</th>\n",
       "      <th>HouseAge</th>\n",
       "      <th>AveRooms</th>\n",
       "      <th>AveBedrms</th>\n",
       "      <th>Population</th>\n",
       "      <th>AveOccup</th>\n",
       "      <th>MedHouseVal</th>\n",
       "    </tr>\n",
       "  </thead>\n",
       "  <tbody>\n",
       "    <tr>\n",
       "      <th>0</th>\n",
       "      <td>8.3252</td>\n",
       "      <td>41.0</td>\n",
       "      <td>6.984127</td>\n",
       "      <td>1.023810</td>\n",
       "      <td>322.0</td>\n",
       "      <td>2.555556</td>\n",
       "      <td>4.526</td>\n",
       "    </tr>\n",
       "    <tr>\n",
       "      <th>1</th>\n",
       "      <td>8.3014</td>\n",
       "      <td>21.0</td>\n",
       "      <td>6.238137</td>\n",
       "      <td>0.971880</td>\n",
       "      <td>2401.0</td>\n",
       "      <td>2.109842</td>\n",
       "      <td>3.585</td>\n",
       "    </tr>\n",
       "    <tr>\n",
       "      <th>2</th>\n",
       "      <td>7.2574</td>\n",
       "      <td>52.0</td>\n",
       "      <td>8.288136</td>\n",
       "      <td>1.073446</td>\n",
       "      <td>496.0</td>\n",
       "      <td>2.802260</td>\n",
       "      <td>3.521</td>\n",
       "    </tr>\n",
       "    <tr>\n",
       "      <th>3</th>\n",
       "      <td>5.6431</td>\n",
       "      <td>52.0</td>\n",
       "      <td>5.817352</td>\n",
       "      <td>1.073059</td>\n",
       "      <td>558.0</td>\n",
       "      <td>2.547945</td>\n",
       "      <td>3.413</td>\n",
       "    </tr>\n",
       "    <tr>\n",
       "      <th>4</th>\n",
       "      <td>3.8462</td>\n",
       "      <td>52.0</td>\n",
       "      <td>6.281853</td>\n",
       "      <td>1.081081</td>\n",
       "      <td>565.0</td>\n",
       "      <td>2.181467</td>\n",
       "      <td>3.422</td>\n",
       "    </tr>\n",
       "  </tbody>\n",
       "</table>\n",
       "</div>"
      ],
      "text/plain": [
       "   MedInc  HouseAge  AveRooms  AveBedrms  Population  AveOccup  MedHouseVal\n",
       "0  8.3252      41.0  6.984127   1.023810       322.0  2.555556        4.526\n",
       "1  8.3014      21.0  6.238137   0.971880      2401.0  2.109842        3.585\n",
       "2  7.2574      52.0  8.288136   1.073446       496.0  2.802260        3.521\n",
       "3  5.6431      52.0  5.817352   1.073059       558.0  2.547945        3.413\n",
       "4  3.8462      52.0  6.281853   1.081081       565.0  2.181467        3.422"
      ]
     },
     "execution_count": 6,
     "metadata": {},
     "output_type": "execute_result"
    }
   ],
   "source": [
    "#read in dataset with target as DataFrame\n",
    "housing_df = pd.DataFrame(np.array(housing.data), columns=housing.feature_names)\n",
    "\n",
    "housing_df[\"MedHouseVal\"] = np.array(housing.target)\n",
    "# housing_df[\"MedHouseVal\"] = np.log1p(np.array(housing.target))\n",
    "housing_df.drop(columns=[\"Latitude\", \"Longitude\"], inplace=True)\n",
    "housing_df.head()"
   ]
  },
  {
   "cell_type": "code",
   "execution_count": 7,
   "id": "6544d453-a8f2-4bdc-8e18-61f7e9b7dad3",
   "metadata": {},
   "outputs": [
    {
     "data": {
      "text/plain": [
       "[6906, 767, 10555, 17456, 20617, 7729]"
      ]
     },
     "execution_count": 7,
     "metadata": {},
     "output_type": "execute_result"
    }
   ],
   "source": [
    "# random index generator\n",
    "np.random.seed(12)\n",
    "idx = list(housing_df.index)\n",
    "np.random.shuffle(idx)\n",
    "idx[:6]"
   ]
  },
  {
   "cell_type": "code",
   "execution_count": 8,
   "id": "8d1b33e9-c247-4b4e-864a-19ec3f1894a1",
   "metadata": {},
   "outputs": [
    {
     "data": {
      "text/plain": [
       "20640"
      ]
     },
     "execution_count": 8,
     "metadata": {},
     "output_type": "execute_result"
    }
   ],
   "source": [
    "#train, val and test record size\n",
    "train_size = int(n * 0.6)\n",
    "val_size = int(n * 0.2)\n",
    "test_size = n - (train_size + val_size)\n",
    "train_size + val_size + test_size"
   ]
  },
  {
   "cell_type": "code",
   "execution_count": 9,
   "id": "6ac7666d-5d83-4f7e-8b39-f5ae58118c20",
   "metadata": {},
   "outputs": [
    {
     "data": {
      "text/plain": [
       "((12384, 7), (4128, 7), (4128, 7))"
      ]
     },
     "execution_count": 9,
     "metadata": {},
     "output_type": "execute_result"
    }
   ],
   "source": [
    "#extract train, val and test dataframe \n",
    "train_df = housing_df.iloc[idx[:train_size]]\n",
    "val_df = housing_df.iloc[idx[train_size:train_size+val_size]]\n",
    "test_df = housing_df.iloc[idx[train_size+val_size:]]\n",
    "\n",
    "train_df.shape, val_df.shape, test_df.shape"
   ]
  },
  {
   "cell_type": "code",
   "execution_count": 10,
   "id": "e172782d-a0b3-44c4-8114-b59d0a1ff8b3",
   "metadata": {},
   "outputs": [],
   "source": [
    "# function to prepare X for training \n",
    "def prepare_X(df):\n",
    "    base_col = ['MedInc', 'HouseAge', 'AveRooms', 'AveBedrms', 'Population','AveOccup']\n",
    "\n",
    "    return df[base_col].values"
   ]
  },
  {
   "cell_type": "code",
   "execution_count": 11,
   "id": "cc400653-69cd-47b9-a5c9-b1672c001cd6",
   "metadata": {},
   "outputs": [],
   "source": [
    "# calculate Root Mean Square Error\n",
    "def rmse(y, y_pred):\n",
    "    error = y - y_pred\n",
    "    squared_error = error ** 2\n",
    "    mse = squared_error.mean()\n",
    "    return np.sqrt(mse)"
   ]
  },
  {
   "cell_type": "code",
   "execution_count": 12,
   "id": "c105286e-5bfe-4751-a32f-3881f961d207",
   "metadata": {},
   "outputs": [],
   "source": [
    "#train the model and return bias and weight \n",
    "def train_linear_regression_reg(X, y, r=0.01):\n",
    "    ones = np.ones(X.shape[0])\n",
    "    X = np.column_stack([ones, X])\n",
    "    \n",
    "    XTX = X.T.dot(X)\n",
    "    XTX = XTX + r * np.eye(XTX.shape[0]) #regularized\n",
    "    \n",
    "    XTX_inv = np.linalg.inv(XTX)\n",
    "    w = XTX_inv.dot(X.T).dot(y)\n",
    "    \n",
    "    return w[0], w[1:]"
   ]
  },
  {
   "cell_type": "code",
   "execution_count": 13,
   "id": "56d1e563-72d2-4f7e-992d-6c0be6c32ed8",
   "metadata": {},
   "outputs": [
    {
     "data": {
      "text/plain": [
       "array([2.114, 1.952, 2.418, ..., 1.783, 1.458, 1.872])"
      ]
     },
     "execution_count": 13,
     "metadata": {},
     "output_type": "execute_result"
    }
   ],
   "source": [
    "#extract needed training record and target \n",
    "X_train = prepare_X(train_df)\n",
    "y_train = train_df[\"MedHouseVal\"].values\n",
    "y_train"
   ]
  },
  {
   "cell_type": "code",
   "execution_count": 14,
   "id": "7e067d53-3171-4e94-8881-0ddd2c9cc66f",
   "metadata": {},
   "outputs": [
    {
     "data": {
      "text/plain": [
       "(-0.22224339825489509,\n",
       " array([ 5.38013232e-01,  1.60362763e-02, -2.18920478e-01,  9.29102884e-01,\n",
       "         2.26093894e-05, -3.87572740e-02]))"
      ]
     },
     "execution_count": 14,
     "metadata": {},
     "output_type": "execute_result"
    }
   ],
   "source": [
    "# baseline model \n",
    "w0, w = train_linear_regression_reg(X_train, y_train)\n",
    "w0, w"
   ]
  },
  {
   "cell_type": "code",
   "execution_count": 15,
   "id": "97acee6a-2c72-4830-9229-8dcb35b3d778",
   "metadata": {},
   "outputs": [],
   "source": [
    "#prepare validation features\n",
    "X_val = prepare_X(val_df)\n",
    "y_val = val_df[\"MedHouseVal\"].values"
   ]
  },
  {
   "cell_type": "code",
   "execution_count": 16,
   "id": "63fe6df0-887d-4a9f-8b76-3ffa146d70bd",
   "metadata": {},
   "outputs": [
    {
     "name": "stdout",
     "output_type": "stream",
     "text": [
      "       R    rmse       w0\n",
      "--------  ------  -------\n",
      " -1.0000  0.8887  -0.2236\n",
      "  0.0000  0.8888  -0.2223\n",
      "  0.0100  0.8888  -0.2222\n",
      "  0.0010  0.8888  -0.2223\n",
      "  0.0001  0.8888  -0.2223\n",
      " 10.0000  0.8898  -0.2089\n",
      "100.0000  0.8966  -0.1229\n",
      "100.0000  0.8966  -0.1229\n"
     ]
    }
   ],
   "source": [
    "# run prediction on multiple r\n",
    "scores = []\n",
    "for r in [-1, 0, 0.01, 0.001, 0.0001, 10, 100, 100]:\n",
    "    \n",
    "    w0, w = train_linear_regression_reg(X_train, y_train, r=r)\n",
    "    \n",
    "    y_pred = w0 + X_val.dot(w)\n",
    "    \n",
    "    score = rmse(y_val, y_pred)\n",
    "    scores.append([r, score, w0])\n",
    "print(tabulate(scores, floatfmt=\".4f\", headers=[\"R\", \"rmse\", \"w0\"]))"
   ]
  },
  {
   "cell_type": "code",
   "execution_count": 17,
   "id": "516caeee-b64f-485c-bba2-ab5be5eee7db",
   "metadata": {},
   "outputs": [
    {
     "data": {
      "text/plain": [
       "(-0.22225583000815344,\n",
       " array([ 5.38015636e-01,  1.60362936e-02, -2.18924659e-01,  9.29125243e-01,\n",
       "         2.26095615e-05, -3.87571424e-02]))"
      ]
     },
     "execution_count": 17,
     "metadata": {},
     "output_type": "execute_result"
    }
   ],
   "source": [
    "# retrain with best r\n",
    "w0, w = train_linear_regression_reg(X_train, y_train, r=0.001)\n",
    "w0, w"
   ]
  },
  {
   "cell_type": "code",
   "execution_count": 18,
   "id": "b6444267-bf22-413e-b04d-2849bdd97cf7",
   "metadata": {},
   "outputs": [],
   "source": [
    "# get the full training dataset\n",
    "X_train_full = prepare_X(pd.concat([train_df, val_df]))\n",
    "y_train_full = np.concatenate([y_train, y_val])"
   ]
  },
  {
   "cell_type": "code",
   "execution_count": 19,
   "id": "04470959-08b7-46b8-8f9f-bdfd93c96656",
   "metadata": {},
   "outputs": [
    {
     "data": {
      "text/plain": [
       "(-0.3488402922188878,\n",
       " array([ 5.43966277e-01,  1.62060897e-02, -2.27340136e-01,  9.83310442e-01,\n",
       "         1.56309882e-05, -6.04699873e-03]))"
      ]
     },
     "execution_count": 19,
     "metadata": {},
     "output_type": "execute_result"
    }
   ],
   "source": [
    "# retrain model using full record and best r\n",
    "w0, w = train_linear_regression_reg(X_train_full, y_train_full, r=0.001)\n",
    "w0, w"
   ]
  },
  {
   "cell_type": "code",
   "execution_count": 20,
   "id": "200d778d-0ba0-4c83-b515-aed62a6c1ee9",
   "metadata": {},
   "outputs": [],
   "source": [
    "# prepare testing dataset\n",
    "X_test = prepare_X(test_df)\n",
    "y_test = test_df[\"MedHouseVal\"].values"
   ]
  },
  {
   "cell_type": "code",
   "execution_count": 21,
   "id": "a11eaa9a-41a1-4e7c-8d9f-777e26c7397b",
   "metadata": {},
   "outputs": [],
   "source": [
    "# make prediction \n",
    "y_pred = w0 + X_test.dot(w)"
   ]
  },
  {
   "cell_type": "code",
   "execution_count": 22,
   "id": "2364351d-fa39-42d8-9b1f-9f716830da12",
   "metadata": {},
   "outputs": [
    {
     "data": {
      "text/plain": [
       "0.7961320777598965"
      ]
     },
     "execution_count": 22,
     "metadata": {},
     "output_type": "execute_result"
    }
   ],
   "source": [
    "# estimate the rmse\n",
    "rmse(y_test, y_pred)"
   ]
  }
 ],
 "metadata": {
  "kernelspec": {
   "display_name": "Python 3 (ipykernel)",
   "language": "python",
   "name": "python3"
  },
  "language_info": {
   "codemirror_mode": {
    "name": "ipython",
    "version": 3
   },
   "file_extension": ".py",
   "mimetype": "text/x-python",
   "name": "python",
   "nbconvert_exporter": "python",
   "pygments_lexer": "ipython3",
   "version": "3.9.19"
  }
 },
 "nbformat": 4,
 "nbformat_minor": 5
}
